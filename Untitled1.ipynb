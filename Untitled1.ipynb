{
  "nbformat": 4,
  "nbformat_minor": 0,
  "metadata": {
    "colab": {
      "provenance": [],
      "authorship_tag": "ABX9TyNJEXDokiFWeVAt71wKv+ql",
      "include_colab_link": true
    },
    "kernelspec": {
      "name": "python3",
      "display_name": "Python 3"
    },
    "language_info": {
      "name": "python"
    }
  },
  "cells": [
    {
      "cell_type": "markdown",
      "metadata": {
        "id": "view-in-github",
        "colab_type": "text"
      },
      "source": [
        "<a href=\"https://colab.research.google.com/github/Danilo12341234/estudos/blob/main/Untitled1.ipynb\" target=\"_parent\"><img src=\"https://colab.research.google.com/assets/colab-badge.svg\" alt=\"Open In Colab\"/></a>"
      ]
    },
    {
      "cell_type": "code",
      "execution_count": 1,
      "metadata": {
        "colab": {
          "base_uri": "https://localhost:8080/"
        },
        "id": "J9N7ifwyU4lK",
        "outputId": "473bb789-3862-45a7-db3b-6e8d2a004272"
      },
      "outputs": [
        {
          "output_type": "stream",
          "name": "stdout",
          "text": [
            "<class 'bool'>\n"
          ]
        }
      ],
      "source": [
        "# UNINASSAU - Aula 2\n",
        "# Docente: Cloves Rocha\n",
        "# Estunde: Danilo Miguel\n",
        "# Turma: CC 6MA\n",
        "# Tipos de dados primitivos\n",
        "\n",
        "#print('Olá turma! CC 6MA')\n",
        "\n",
        "c = True\n",
        "print(type(c))"
      ]
    }
  ]
}