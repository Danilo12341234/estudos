{
  "nbformat": 4,
  "nbformat_minor": 0,
  "metadata": {
    "colab": {
      "provenance": [],
      "authorship_tag": "ABX9TyPowAgh6+iXL26ovVtczNZQ",
      "include_colab_link": true
    },
    "kernelspec": {
      "name": "python3",
      "display_name": "Python 3"
    },
    "language_info": {
      "name": "python"
    }
  },
  "cells": [
    {
      "cell_type": "markdown",
      "metadata": {
        "id": "view-in-github",
        "colab_type": "text"
      },
      "source": [
        "<a href=\"https://colab.research.google.com/github/Danilo12341234/estudos/blob/main/Untitled1.ipynb\" target=\"_parent\"><img src=\"https://colab.research.google.com/assets/colab-badge.svg\" alt=\"Open In Colab\"/></a>"
      ]
    },
    {
      "cell_type": "code",
      "execution_count": 2,
      "metadata": {
        "colab": {
          "base_uri": "https://localhost:8080/"
        },
        "id": "J9N7ifwyU4lK",
        "outputId": "246aceda-6cdc-454e-d537-8d8c33a67397"
      },
      "outputs": [
        {
          "output_type": "stream",
          "name": "stdout",
          "text": [
            "<class 'int'>\n"
          ]
        }
      ],
      "source": [
        "# UNINASSAU - Aula 2\n",
        "# Docente: Cloves Rocha\n",
        "# Estunde: Danilo Miguel\n",
        "# Turma: CC 6MA\n",
        "# Tipos de dados primitivos\n",
        "\n",
        "#print('Olá turma! CC 6MA')\n",
        "\n",
        "c = 10\n",
        "print(type(c))"
      ]
    }
  ]
}